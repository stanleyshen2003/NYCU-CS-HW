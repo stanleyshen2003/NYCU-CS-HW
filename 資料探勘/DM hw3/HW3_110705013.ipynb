{
 "cells": [
  {
   "cell_type": "code",
   "execution_count": 2,
   "metadata": {},
   "outputs": [],
   "source": [
    "import pandas as pd\n",
    "import numpy as np"
   ]
  },
  {
   "cell_type": "code",
   "execution_count": 8,
   "metadata": {},
   "outputs": [],
   "source": [
    "train_data = pd.read_csv('training.csv').drop(columns=['lettr'])\n",
    "train_data = train_data.to_numpy().astype(int)\n",
    "test_data = pd.read_csv('test_X.csv')\n",
    "test_data = test_data.to_numpy().astype(int)"
   ]
  },
  {
   "cell_type": "code",
   "execution_count": 9,
   "metadata": {},
   "outputs": [],
   "source": [
    "min_distances = []\n",
    "for testing_data in test_data:\n",
    "    min_distance = 1000000\n",
    "    for training_data in train_data:\n",
    "        distance = np.linalg.norm(testing_data - training_data)\n",
    "        if distance == 0 and min_distance == 0:\n",
    "            min_distance -= 1\n",
    "        elif distance < min_distance:\n",
    "            min_distance = distance\n",
    "    min_distances.append(min_distance)\n"
   ]
  },
  {
   "cell_type": "code",
   "execution_count": 10,
   "metadata": {},
   "outputs": [],
   "source": [
    "import csv\n",
    "with open('submission.csv', 'w', newline='') as csvfile:\n",
    "    writer = csv.writer(csvfile)\n",
    "    writer.writerow(['id', 'outliers'])\n",
    "    for i, min_distance in enumerate(min_distances):\n",
    "        writer.writerow([i, min_distance])"
   ]
  }
 ],
 "metadata": {
  "kernelspec": {
   "display_name": "CV",
   "language": "python",
   "name": "python3"
  },
  "language_info": {
   "codemirror_mode": {
    "name": "ipython",
    "version": 3
   },
   "file_extension": ".py",
   "mimetype": "text/x-python",
   "name": "python",
   "nbconvert_exporter": "python",
   "pygments_lexer": "ipython3",
   "version": "3.9.7"
  }
 },
 "nbformat": 4,
 "nbformat_minor": 2
}
